{
 "cells": [
  {
   "cell_type": "markdown",
   "metadata": {},
   "source": [
    "# Predict Heart Failure"
   ]
  },
  {
   "cell_type": "markdown",
   "metadata": {},
   "source": [
    "## Step1: Importing Modules"
   ]
  },
  {
   "cell_type": "code",
   "execution_count": 2,
   "metadata": {},
   "outputs": [],
   "source": [
    "#modules for manipulation of data\n",
    "import numpy as np\n",
    "import pandas as pd\n",
    "\n",
    "#modules for data visualisation\n",
    "import seaborn as sns\n",
    "import matplotlib.pyplot as plt"
   ]
  },
  {
   "cell_type": "markdown",
   "metadata": {},
   "source": [
    "## Step2: Importing Data"
   ]
  },
  {
   "cell_type": "code",
   "execution_count": 3,
   "metadata": {},
   "outputs": [],
   "source": [
    "#the data is available as a csv file\n",
    "train = pd.read_csv(\"heart_failure_clinical_records_dataset.csv\")"
   ]
  },
  {
   "cell_type": "markdown",
   "metadata": {},
   "source": [
    "<b>Description of data</b> <br>\n",
    "Sex - Gender of patient Male = 1, Female =0 <br>\n",
    "Age - Age of patient <br>\n",
    "Diabetes - 0 = No, 1 = Yes <br>\n",
    "Anaemia - 0 = No, 1 = Yes <br>\n",
    "High_blood_pressure - 0 = No, 1 = Yes <br>\n",
    "Smoking - 0 = No, 1 = Yes <br>\n",
    "DEATH_EVENT - 0 = No, 1 = Yes <br>"
   ]
  },
  {
   "cell_type": "markdown",
   "metadata": {},
   "source": [
    "## Step3:  EDA (Exploratory Data Analysis)"
   ]
  },
  {
   "cell_type": "markdown",
   "metadata": {},
   "source": [
    "### Summary Statistics"
   ]
  },
  {
   "cell_type": "markdown",
   "metadata": {},
   "source": [
    "#### Rows and Columns"
   ]
  },
  {
   "cell_type": "code",
   "execution_count": 4,
   "metadata": {},
   "outputs": [
    {
     "name": "stdout",
     "output_type": "stream",
     "text": [
      "Number of rows: 299\n",
      "Number of columns: 13\n"
     ]
    }
   ],
   "source": [
    "#shape of the data\n",
    "rows = train.shape[0]\n",
    "columns = train.shape[1]\n",
    "\n",
    "#printing the values\n",
    "print(\"Number of rows:\", rows)\n",
    "print(\"Number of columns:\", columns)"
   ]
  },
  {
   "cell_type": "markdown",
   "metadata": {},
   "source": [
    "#### Head"
   ]
  },
  {
   "cell_type": "code",
   "execution_count": 5,
   "metadata": {},
   "outputs": [
    {
     "name": "stdout",
     "output_type": "stream",
     "text": [
      "    age  anaemia  creatinine_phosphokinase  diabetes  ejection_fraction  \\\n",
      "0  75.0        0                       582         0                 20   \n",
      "1  55.0        0                      7861         0                 38   \n",
      "2  65.0        0                       146         0                 20   \n",
      "3  50.0        1                       111         0                 20   \n",
      "4  65.0        1                       160         1                 20   \n",
      "\n",
      "   high_blood_pressure  platelets  serum_creatinine  serum_sodium  sex  \\\n",
      "0                    1  265000.00               1.9           130    1   \n",
      "1                    0  263358.03               1.1           136    1   \n",
      "2                    0  162000.00               1.3           129    1   \n",
      "3                    0  210000.00               1.9           137    1   \n",
      "4                    0  327000.00               2.7           116    0   \n",
      "\n",
      "   smoking  time  DEATH_EVENT  \n",
      "0        0     4            1  \n",
      "1        0     6            1  \n",
      "2        1     7            1  \n",
      "3        0     7            1  \n",
      "4        0     8            1  \n"
     ]
    }
   ],
   "source": [
    "#viewing the initial five rows\n",
    "print(train.head())"
   ]
  },
  {
   "cell_type": "markdown",
   "metadata": {},
   "source": [
    "#### Description"
   ]
  },
  {
   "cell_type": "code",
   "execution_count": 6,
   "metadata": {},
   "outputs": [
    {
     "name": "stdout",
     "output_type": "stream",
     "text": [
      "              age     anaemia  creatinine_phosphokinase    diabetes  \\\n",
      "count  299.000000  299.000000                299.000000  299.000000   \n",
      "mean    60.833893    0.431438                581.839465    0.418060   \n",
      "std     11.894809    0.496107                970.287881    0.494067   \n",
      "min     40.000000    0.000000                 23.000000    0.000000   \n",
      "25%     51.000000    0.000000                116.500000    0.000000   \n",
      "50%     60.000000    0.000000                250.000000    0.000000   \n",
      "75%     70.000000    1.000000                582.000000    1.000000   \n",
      "max     95.000000    1.000000               7861.000000    1.000000   \n",
      "\n",
      "       ejection_fraction  high_blood_pressure      platelets  \\\n",
      "count         299.000000           299.000000     299.000000   \n",
      "mean           38.083612             0.351171  263358.029264   \n",
      "std            11.834841             0.478136   97804.236869   \n",
      "min            14.000000             0.000000   25100.000000   \n",
      "25%            30.000000             0.000000  212500.000000   \n",
      "50%            38.000000             0.000000  262000.000000   \n",
      "75%            45.000000             1.000000  303500.000000   \n",
      "max            80.000000             1.000000  850000.000000   \n",
      "\n",
      "       serum_creatinine  serum_sodium         sex    smoking        time  \\\n",
      "count         299.00000    299.000000  299.000000  299.00000  299.000000   \n",
      "mean            1.39388    136.625418    0.648829    0.32107  130.260870   \n",
      "std             1.03451      4.412477    0.478136    0.46767   77.614208   \n",
      "min             0.50000    113.000000    0.000000    0.00000    4.000000   \n",
      "25%             0.90000    134.000000    0.000000    0.00000   73.000000   \n",
      "50%             1.10000    137.000000    1.000000    0.00000  115.000000   \n",
      "75%             1.40000    140.000000    1.000000    1.00000  203.000000   \n",
      "max             9.40000    148.000000    1.000000    1.00000  285.000000   \n",
      "\n",
      "       DEATH_EVENT  \n",
      "count    299.00000  \n",
      "mean       0.32107  \n",
      "std        0.46767  \n",
      "min        0.00000  \n",
      "25%        0.00000  \n",
      "50%        0.00000  \n",
      "75%        1.00000  \n",
      "max        1.00000  \n"
     ]
    }
   ],
   "source": [
    "#describing the data\n",
    "print(train.describe())"
   ]
  },
  {
   "cell_type": "markdown",
   "metadata": {},
   "source": [
    "#### Info"
   ]
  },
  {
   "cell_type": "code",
   "execution_count": 7,
   "metadata": {},
   "outputs": [
    {
     "name": "stdout",
     "output_type": "stream",
     "text": [
      "<class 'pandas.core.frame.DataFrame'>\n",
      "RangeIndex: 299 entries, 0 to 298\n",
      "Data columns (total 13 columns):\n",
      " #   Column                    Non-Null Count  Dtype  \n",
      "---  ------                    --------------  -----  \n",
      " 0   age                       299 non-null    float64\n",
      " 1   anaemia                   299 non-null    int64  \n",
      " 2   creatinine_phosphokinase  299 non-null    int64  \n",
      " 3   diabetes                  299 non-null    int64  \n",
      " 4   ejection_fraction         299 non-null    int64  \n",
      " 5   high_blood_pressure       299 non-null    int64  \n",
      " 6   platelets                 299 non-null    float64\n",
      " 7   serum_creatinine          299 non-null    float64\n",
      " 8   serum_sodium              299 non-null    int64  \n",
      " 9   sex                       299 non-null    int64  \n",
      " 10  smoking                   299 non-null    int64  \n",
      " 11  time                      299 non-null    int64  \n",
      " 12  DEATH_EVENT               299 non-null    int64  \n",
      "dtypes: float64(3), int64(10)\n",
      "memory usage: 30.5 KB\n",
      "None\n"
     ]
    }
   ],
   "source": [
    "#further information about the data\n",
    "print(train.info())"
   ]
  },
  {
   "cell_type": "markdown",
   "metadata": {},
   "source": [
    "### Missing Values\n",
    "It can be observed from the values below that there are no missing values."
   ]
  },
  {
   "cell_type": "code",
   "execution_count": 8,
   "metadata": {},
   "outputs": [
    {
     "name": "stdout",
     "output_type": "stream",
     "text": [
      "age                         0\n",
      "anaemia                     0\n",
      "creatinine_phosphokinase    0\n",
      "diabetes                    0\n",
      "ejection_fraction           0\n",
      "high_blood_pressure         0\n",
      "platelets                   0\n",
      "serum_creatinine            0\n",
      "serum_sodium                0\n",
      "sex                         0\n",
      "smoking                     0\n",
      "time                        0\n",
      "DEATH_EVENT                 0\n",
      "dtype: int64\n"
     ]
    }
   ],
   "source": [
    "#checking for missing values\n",
    "print(train.isna().sum())"
   ]
  },
  {
   "cell_type": "markdown",
   "metadata": {},
   "source": [
    "## Step4: Feature Analysis"
   ]
  },
  {
   "cell_type": "code",
   "execution_count": 9,
   "metadata": {},
   "outputs": [],
   "source": [
    "#Setting the variable for death_event\n",
    "DEATH_EVENT = train[\"DEATH_EVENT\"]"
   ]
  },
  {
   "cell_type": "markdown",
   "metadata": {},
   "source": [
    "### Feature1: age\n",
    "Considering 'age' is a continuosly varying data type, we will plot a scatter plot to see it's variation with the DEATH_EVENT. <br>\n",
    "We will divide the age in 4 groups: <br>\n",
    "group1_age =  <20 <br>\n",
    "group2_age =  <= 20 age < 40 <br>\n",
    "group3_age =  <= 40 age < 60 <br>\n",
    "group4_age =  age >= 60\n"
   ]
  },
  {
   "cell_type": "code",
   "execution_count": 10,
   "metadata": {
    "scrolled": true
   },
   "outputs": [],
   "source": [
    "#setting the variable\n",
    "age = train[\"age\"]\n",
    "\n",
    "#dividing the feature in 4 categories\n",
    "group1_age = age < 20\n",
    "group2_age = (age >= 20) & (age < 40)\n",
    "group3_age = (age >= 40) & (age < 60)\n",
    "group4_age = (age >= 60)"
   ]
  },
  {
   "cell_type": "code",
   "execution_count": 11,
   "metadata": {},
   "outputs": [
    {
     "name": "stdout",
     "output_type": "stream",
     "text": [
      "Group1: 0\n",
      "Group2: 0\n",
      "Group3: 129\n",
      "Group4: 170\n"
     ]
    }
   ],
   "source": [
    "#assessing how many people died of heart failure in each category\n",
    "print(\"Group1:\", group1_age.sum())\n",
    "print(\"Group2:\", group2_age.sum())\n",
    "print(\"Group3:\", group3_age.sum())\n",
    "print(\"Group4:\", group4_age.sum())"
   ]
  },
  {
   "cell_type": "markdown",
   "metadata": {},
   "source": [
    "It can be observed that not one person died in the group1 (<20) and group2 (<=20 age <40) in the provided dataset. To further filter the maximum occurence of death due to heart failure we will sub-divide groups 3 and 4. <br>\n",
    "Also, we will further make group5 for : age >= 80"
   ]
  },
  {
   "cell_type": "code",
   "execution_count": 12,
   "metadata": {},
   "outputs": [],
   "source": [
    "#sub-dividing group3 and group4\n",
    "group3_1_age = (age >= 40) & (age < 45)\n",
    "group3_2_age = (age >= 45) & (age < 50)\n",
    "group3_3_age = (age >= 50) & (age < 55)\n",
    "group3_4_age = (age >= 55) & (age < 60)\n",
    "\n",
    "group4_1_age = (age >= 60) & (age < 65)\n",
    "group4_2_age = (age >= 65) & (age < 70)\n",
    "group4_3_age = (age >= 70) & (age < 75)\n",
    "group4_4_age = (age >= 75) & (age < 80)\n",
    "\n",
    "group5_age = (age >= 80)"
   ]
  },
  {
   "cell_type": "code",
   "execution_count": 13,
   "metadata": {},
   "outputs": [
    {
     "name": "stdout",
     "output_type": "stream",
     "text": [
      "Group3_1: 18\n",
      "Group3_2: 29\n",
      "Group3_3: 48\n",
      "Group3_4: 34\n",
      "Group4_1: 55\n",
      "Group4_2: 38\n",
      "Group4_3: 36\n",
      "Group4_4: 16\n",
      "Group5  : 25\n"
     ]
    }
   ],
   "source": [
    "#assessing how many people died of heart failure in each category\n",
    "print(\"Group3_1:\", group3_1_age.sum())\n",
    "print(\"Group3_2:\", group3_2_age.sum())\n",
    "print(\"Group3_3:\", group3_3_age.sum())\n",
    "print(\"Group3_4:\", group3_4_age.sum())\n",
    "\n",
    "print(\"Group4_1:\", group4_1_age.sum())\n",
    "print(\"Group4_2:\", group4_2_age.sum())\n",
    "print(\"Group4_3:\", group4_3_age.sum())\n",
    "print(\"Group4_4:\", group4_4_age.sum())\n",
    "\n",
    "print(\"Group5  :\", group5_age.sum())"
   ]
  },
  {
   "cell_type": "markdown",
   "metadata": {},
   "source": [
    "It can be observed that maximum heart feailure lead death occurs in group4_1, i.e <=60 age <65, followed by group3_3 i.e, 50 <= age 55.\n",
    "This observation is easier to interpret in visual form."
   ]
  },
  {
   "cell_type": "code",
   "execution_count": 14,
   "metadata": {},
   "outputs": [
    {
     "data": {
      "text/html": [
       "<div>\n",
       "<style scoped>\n",
       "    .dataframe tbody tr th:only-of-type {\n",
       "        vertical-align: middle;\n",
       "    }\n",
       "\n",
       "    .dataframe tbody tr th {\n",
       "        vertical-align: top;\n",
       "    }\n",
       "\n",
       "    .dataframe thead th {\n",
       "        text-align: right;\n",
       "    }\n",
       "</style>\n",
       "<table border=\"1\" class=\"dataframe\">\n",
       "  <thead>\n",
       "    <tr style=\"text-align: right;\">\n",
       "      <th></th>\n",
       "      <th>x_axis</th>\n",
       "      <th>y_axis</th>\n",
       "    </tr>\n",
       "  </thead>\n",
       "  <tbody>\n",
       "    <tr>\n",
       "      <th>7</th>\n",
       "      <td>group4_4_age (75-80)</td>\n",
       "      <td>16</td>\n",
       "    </tr>\n",
       "    <tr>\n",
       "      <th>0</th>\n",
       "      <td>group3_1_age (40-45)</td>\n",
       "      <td>18</td>\n",
       "    </tr>\n",
       "    <tr>\n",
       "      <th>8</th>\n",
       "      <td>group5_age (&gt;80)</td>\n",
       "      <td>25</td>\n",
       "    </tr>\n",
       "    <tr>\n",
       "      <th>1</th>\n",
       "      <td>group3_2_age (45-50)</td>\n",
       "      <td>29</td>\n",
       "    </tr>\n",
       "    <tr>\n",
       "      <th>3</th>\n",
       "      <td>group3_4_age (55-60)</td>\n",
       "      <td>34</td>\n",
       "    </tr>\n",
       "    <tr>\n",
       "      <th>6</th>\n",
       "      <td>group4_3_age (70-75)</td>\n",
       "      <td>36</td>\n",
       "    </tr>\n",
       "    <tr>\n",
       "      <th>5</th>\n",
       "      <td>group4_2_age (65-70)</td>\n",
       "      <td>38</td>\n",
       "    </tr>\n",
       "    <tr>\n",
       "      <th>2</th>\n",
       "      <td>group3_3_age (50-55)</td>\n",
       "      <td>48</td>\n",
       "    </tr>\n",
       "    <tr>\n",
       "      <th>4</th>\n",
       "      <td>group4_1_age (60-65)</td>\n",
       "      <td>55</td>\n",
       "    </tr>\n",
       "  </tbody>\n",
       "</table>\n",
       "</div>"
      ],
      "text/plain": [
       "                 x_axis  y_axis\n",
       "7  group4_4_age (75-80)      16\n",
       "0  group3_1_age (40-45)      18\n",
       "8      group5_age (>80)      25\n",
       "1  group3_2_age (45-50)      29\n",
       "3  group3_4_age (55-60)      34\n",
       "6  group4_3_age (70-75)      36\n",
       "5  group4_2_age (65-70)      38\n",
       "2  group3_3_age (50-55)      48\n",
       "4  group4_1_age (60-65)      55"
      ]
     },
     "execution_count": 14,
     "metadata": {},
     "output_type": "execute_result"
    }
   ],
   "source": [
    "#x_axis labels\n",
    "x_axis = [\"group3_1_age (40-45)\", \"group3_2_age (45-50)\", \"group3_3_age (50-55)\", \"group3_4_age (55-60)\", \n",
    "          \"group4_1_age (60-65)\", \"group4_2_age (65-70)\", \"group4_3_age (70-75)\", \"group4_4_age (75-80)\",\n",
    "          \"group5_age (>80)\"]\n",
    "\n",
    "#corresponding y_axis values\n",
    "y_axis = [group3_1_age.sum(), group3_2_age.sum(), group3_3_age.sum(), group3_4_age.sum(), group4_1_age.sum(), \n",
    "          group4_2_age.sum(), group4_3_age.sum(), group4_4_age.sum(), group5_age.sum()]\n",
    "\n",
    "#making a dataframe\n",
    "df_age = pd.DataFrame({\"x_axis\": x_axis, \"y_axis\": y_axis})\n",
    "\n",
    "#sorting the deaths ascending order\n",
    "df_age.sort_values(\"y_axis\")"
   ]
  },
  {
   "cell_type": "code",
   "execution_count": 15,
   "metadata": {},
   "outputs": [
    {
     "data": {
      "image/png": "[encoded data removed]",
      "text/plain": [
       "<Figure size 432x288 with 1 Axes>"
      ]
     },
     "metadata": {},
     "output_type": "display_data"
    }
   ],
   "source": [
    "#plotting the bar-graph\n",
    "sns.set_theme(style=\"whitegrid\")\n",
    "sns.barplot(x=\"x_axis\", y=\"y_axis\", data=df_age, order=df_age.sort_values('y_axis').x_axis, palette=\"OrRd\")\n",
    "plt.xlabel(\"Age Groups\")\n",
    "plt.ylabel(\"Number of deaths\")\n",
    "plt.title(\"Number of death/Age group\")\n",
    "plt.xticks(rotation=90)\n",
    "plt.show()"
   ]
  },
  {
   "cell_type": "markdown",
   "metadata": {},
   "source": [
    "<b>Conclusion</b>: An individual is more likely to suffer death from heart failure is he/she is in the age group 60-65 (60 inclusive)."
   ]
  },
  {
   "cell_type": "markdown",
   "metadata": {},
   "source": [
    "### Feature2: anaemia"
   ]
  },
  {
   "cell_type": "code",
   "execution_count": 16,
   "metadata": {},
   "outputs": [
    {
     "name": "stdout",
     "output_type": "stream",
     "text": [
      "0      0\n",
      "1      0\n",
      "2      0\n",
      "3      1\n",
      "4      1\n",
      "      ..\n",
      "294    0\n",
      "295    0\n",
      "296    0\n",
      "297    0\n",
      "298    0\n",
      "Name: anaemia, Length: 299, dtype: int64\n"
     ]
    }
   ],
   "source": [
    "#checking the data-point\n",
    "print(train[\"anaemia\"])"
   ]
  },
  {
   "cell_type": "markdown",
   "metadata": {},
   "source": [
    "Anaemia is a boolean data type. <br>\n",
    "1 -> The person is anemic <br>\n",
    "0 -> The person is not anemic <br>\n",
    "\n"
   ]
  },
  {
   "cell_type": "markdown",
   "metadata": {},
   "source": [
    "We will divide the anaemia parameter into two categories. Anaemic and Non-anaemic. Then we will analyse, what proportion of anaemic people die of heart failure and similar stratergy is drawn up for non-anaemic individuals."
   ]
  },
  {
   "cell_type": "code",
   "execution_count": 17,
   "metadata": {},
   "outputs": [
    {
     "name": "stdout",
     "output_type": "stream",
     "text": [
      "0      False\n",
      "1      False\n",
      "2      False\n",
      "3       True\n",
      "4       True\n",
      "       ...  \n",
      "294    False\n",
      "295    False\n",
      "296    False\n",
      "297    False\n",
      "298    False\n",
      "Name: anaemia, Length: 299, dtype: bool\n",
      "0       True\n",
      "1       True\n",
      "2       True\n",
      "3      False\n",
      "4      False\n",
      "       ...  \n",
      "294     True\n",
      "295     True\n",
      "296     True\n",
      "297     True\n",
      "298     True\n",
      "Name: anaemia, Length: 299, dtype: bool\n"
     ]
    }
   ],
   "source": [
    "#anaemic individuals\n",
    "anaemic = train[\"anaemia\"] == 1\n",
    "\n",
    "#non-anaemic individuals\n",
    "non_anaemic = train[\"anaemia\"] == 0\n",
    "\n",
    "#printing the two Series\n",
    "print(anaemic)\n",
    "print(non_anaemic)"
   ]
  },
  {
   "cell_type": "markdown",
   "metadata": {},
   "source": [
    "Calculating the proportion of people who are anaemic and non-anaemic in the given dataset."
   ]
  },
  {
   "cell_type": "code",
   "execution_count": 18,
   "metadata": {},
   "outputs": [
    {
     "name": "stdout",
     "output_type": "stream",
     "text": [
      "Percentage of anaemic individuals: 43.1438127090301\n",
      "Percentage of non-anemic individuals: 56.85618729096989\n"
     ]
    }
   ],
   "source": [
    "#anaemic\n",
    "print(\"Percentage of anaemic individuals:\",(anaemic.sum()/rows)*100)\n",
    "\n",
    "#non-anaemic\n",
    "print(\"Percentage of non-anemic individuals:\",(non_anaemic.sum()/rows)*100)"
   ]
  },
  {
   "cell_type": "markdown",
   "metadata": {},
   "source": [
    "Analysing proportion of anaemic individuals who die of heart failure. <br>\n",
    "First Calculating the numerical statistics"
   ]
  },
  {
   "cell_type": "code",
   "execution_count": 19,
   "metadata": {},
   "outputs": [],
   "source": [
    "#anaemic individuals who die of heart failure\n",
    "anaemic_not_survive = train[train[\"anaemia\"]==1][\"DEATH_EVENT\"]"
   ]
  },
  {
   "cell_type": "code",
   "execution_count": 20,
   "metadata": {},
   "outputs": [
    {
     "name": "stdout",
     "output_type": "stream",
     "text": [
      "Percentage of anaemic people who die: 35.65891472868217\n"
     ]
    }
   ],
   "source": [
    "#percentage of anaemic people who die\n",
    "print(\"Percentage of anaemic people who die:\" ,(anaemic_not_survive.sum()/anaemic.sum())*100)"
   ]
  },
  {
   "cell_type": "code",
   "execution_count": 21,
   "metadata": {},
   "outputs": [],
   "source": [
    "#non_anaemic individuals who die of heart failure\n",
    "non_anaemic_not_survive = train[train[\"anaemia\"]==0][\"DEATH_EVENT\"]"
   ]
  },
  {
   "cell_type": "code",
   "execution_count": 22,
   "metadata": {},
   "outputs": [
    {
     "name": "stdout",
     "output_type": "stream",
     "text": [
      "Percentage of non_anaemic who die: 29.411764705882355\n"
     ]
    }
   ],
   "source": [
    "#percentage of non_anaemic people who die\n",
    "print(\"Percentage of non_anaemic who die:\", (non_anaemic_not_survive.sum()/non_anaemic.sum())*100)"
   ]
  },
  {
   "cell_type": "markdown",
   "metadata": {},
   "source": [
    "Visualising data"
   ]
  },
  {
   "cell_type": "code",
   "execution_count": 23,
   "metadata": {},
   "outputs": [],
   "source": [
    "#column for anaemia \n",
    "x_axis_anaemia = [\"anaemic\", \"non_anaemic\"]\n",
    "\n",
    "#column for whether the person is anaemic or not\n",
    "anaemia_column = [(anaemic.sum()/rows)*100, (non_anaemic.sum()/rows)*100]\n",
    "\n",
    "#column for whether individual will die or not\n",
    "x_axis_die = [\"anaemic_die\", \"non_anaemic_die\"]\n",
    "\n",
    "#column for whether the person will die or not\n",
    "die_column = [(anaemic_not_survive.sum()/anaemic.sum())*100, (non_anaemic_not_survive.sum()/non_anaemic.sum())*100]"
   ]
  },
  {
   "cell_type": "code",
   "execution_count": 24,
   "metadata": {},
   "outputs": [
    {
     "data": {
      "image/png": "[encoded data removed]",
      "text/plain": [
       "<Figure size 432x288 with 1 Axes>"
      ]
     },
     "metadata": {},
     "output_type": "display_data"
    },
    {
     "data": {
      "image/png": "[encoded data removed]",
      "text/plain": [
       "<Figure size 432x288 with 1 Axes>"
      ]
     },
     "metadata": {},
     "output_type": "display_data"
    }
   ],
   "source": [
    "#plotting the 1st bar-graph which shows the percentage of anaemic and non-anaemic people\n",
    "sns.barplot(x=x_axis_anaemia, y=anaemia_column, palette=\"OrRd\")\n",
    "plt.xlabel(\"Anaemic or Non-Anaemic\")\n",
    "plt.yticks([0, 10, 20, 30, 40, 50, 60, 70, 80, 90, 100])\n",
    "plt.ylabel(\"Percentage of people\")\n",
    "plt.title(\"Percentage of people Anaemic or Non-Anaemic\")\n",
    "plt.show()\n",
    "\n",
    "#plotting the 2nd bar-graph which shows the percentage of people individuals who die in each category\n",
    "sns.barplot(x=x_axis_die, y=die_column, palette=\"BuGn\")\n",
    "plt.xlabel(\"Anaemic_Die or Non_Anaemic_Die\")\n",
    "plt.yticks([0, 10, 20, 30, 40, 50, 60, 70, 80, 90, 100])\n",
    "plt.ylabel(\"Percentage of people\")\n",
    "plt.title(\"Percentage of people dying in Anaemic or Non-Anaemic category\")\n",
    "plt.show()"
   ]
  },
  {
   "cell_type": "code",
   "execution_count": 25,
   "metadata": {},
   "outputs": [],
   "source": [
    "#column for anaemia \n",
    "x_axis_anaemia_new = [\"anaemic\", \"non_anaemic\"]\n",
    "\n",
    "#column for whether the person is anaemic or not\n",
    "anaemia_column_new = [(anaemic.sum()), (non_anaemic.sum())]\n",
    "\n",
    "#column for whether individual will die or not\n",
    "x_axis_die_new = [\"anaemic_die\", \"non_anaemic_die\"]\n",
    "\n",
    "#column for whether the person will die or not\n",
    "die_column_new = [(anaemic_not_survive.sum()), (non_anaemic_not_survive.sum())]"
   ]
  },
  {
   "cell_type": "code",
   "execution_count": 26,
   "metadata": {},
   "outputs": [
    {
     "data": {
      "image/png": "[encoded data removed]",
      "text/plain": [
       "<Figure size 432x288 with 1 Axes>"
      ]
     },
     "metadata": {},
     "output_type": "display_data"
    }
   ],
   "source": [
    "#plotting the 1st bar-graph which shows the percentage of anaemic and non-anaemic people\n",
    "sns.barplot(x=x_axis_anaemia_new, y=anaemia_column_new, palette=\"OrRd\")\n",
    "plt.xlabel(\"Anaemic or Non-Anaemic and people dying\")\n",
    "plt.ylabel(\"Number of people\")\n",
    "plt.title(\"Number of people die in each category\")\n",
    "\n",
    "#plotting the 2nd bar-graph which shows the percentage of people individuals who die in each category\n",
    "sns.barplot(x=x_axis_die_new, y=die_column_new, color=\"yellow\")\n",
    "plt.show()"
   ]
  },
  {
   "cell_type": "markdown",
   "metadata": {},
   "source": [
    "<b>Conclusion:</b> People having anaemia have a greater chance of dying of heart failure than non-anaemic people. But \n",
    "difference is not much prevalent."
   ]
  },
  {
   "cell_type": "markdown",
   "metadata": {},
   "source": [
    "### Feature3: creatinine_phosphokinase"
   ]
  },
  {
   "cell_type": "code",
   "execution_count": 27,
   "metadata": {},
   "outputs": [
    {
     "name": "stdout",
     "output_type": "stream",
     "text": [
      "0       582\n",
      "1      7861\n",
      "2       146\n",
      "3       111\n",
      "4       160\n",
      "       ... \n",
      "294      61\n",
      "295    1820\n",
      "296    2060\n",
      "297    2413\n",
      "298     196\n",
      "Name: creatinine_phosphokinase, Length: 299, dtype: int64\n"
     ]
    }
   ],
   "source": [
    "#checking the column\n",
    "print(train[\"creatinine_phosphokinase\"])"
   ]
  },
  {
   "cell_type": "markdown",
   "metadata": {},
   "source": [
    "#### About creatinine_phosphokinase \n",
    "<b>Definition:</b>Creatine phosphokinase (CPK) is an enzyme in the body. It is found mainly in the heart, brain, and skeletal muscle. <br>\n",
    "<b>Effects:</b>When the total CPK level is very high, it most often means there has been injury or stress to muscle tissue, the heart, or the brain. <br>\n",
    "Muscle tissue injury is most likely. When a muscle is damaged, CPK leaks into the bloodstream. Finding which specific form of CPK is high helps determine which tissue has been damaged.<br>\n",
    "<b>The pattern and timing of a rise or fall in CPK levels can be significant in making a diagnosis. This is particularly true if a heart attack is suspected.</b>\n",
    "<b>Normal Levels:</b> <br>\n",
    "Male: 39 – 308 U/L <br> \n",
    "Females: 26 – 192 U/L.\n",
    "    \n",
    "It can be concluded from the above description that higher levels of creatinine phosphokinase results in greater chances of heart attack."
   ]
  },
  {
   "cell_type": "markdown",
   "metadata": {},
   "source": [
    "Numerical Statistics"
   ]
  },
  {
   "cell_type": "code",
   "execution_count": 28,
   "metadata": {},
   "outputs": [],
   "source": [
    "#creating a variable\n",
    "creatinine_phosphokinase = train[\"creatinine_phosphokinase\"]"
   ]
  },
  {
   "cell_type": "code",
   "execution_count": 29,
   "metadata": {},
   "outputs": [
    {
     "name": "stdout",
     "output_type": "stream",
     "text": [
      "count     299.000000\n",
      "mean      581.839465\n",
      "std       970.287881\n",
      "min        23.000000\n",
      "25%       116.500000\n",
      "50%       250.000000\n",
      "75%       582.000000\n",
      "max      7861.000000\n",
      "Name: creatinine_phosphokinase, dtype: float64\n"
     ]
    }
   ],
   "source": [
    "#information about the column\n",
    "print(creatinine_phosphokinase.describe())"
   ]
  },
  {
   "cell_type": "markdown",
   "metadata": {},
   "source": [
    "Considering the information provided in the description of the feature, we will categorise the data as follows: <br>\n",
    "female -> level < normal -> DEATH_EVENT <br>\n",
    "female -> level = normal -> DEATH_EVENT <br>\n",
    "female -> level > normal -> DEATH_EVENT <br>\n",
    "\n",
    "male -> level < normal -> DEATH_EVENT <br>\n",
    "male -> level == normal -> DEATH_EVENT <br>\n",
    "male -> level > normal -> DEATH_EVENT <br>"
   ]
  },
  {
   "cell_type": "code",
   "execution_count": 30,
   "metadata": {},
   "outputs": [],
   "source": [
    "#categorising female\n",
    "female_lvl_less = ((train[\"creatinine_phosphokinase\"] < 25) & (train[\"sex\"] == 0))\n",
    "female_lvl_equal = ((train[\"creatinine_phosphokinase\"] >= 25) & (train[\"creatinine_phosphokinase\"] < 200) & (train[\"sex\"] == 0))\n",
    "female_lvl_more = ((train[\"creatinine_phosphokinase\"] >= 200) & (train[\"sex\"] == 0))\n",
    "\n",
    "#categorising male\n",
    "male_lvl_less = ((train[\"creatinine_phosphokinase\"] < 40) & (train[\"sex\"] == 1))\n",
    "male_lvl_equal = ((train[\"creatinine_phosphokinase\"] >= 40) & (train[\"creatinine_phosphokinase\"] < 300) & (train[\"sex\"] == 1))\n",
    "male_lvl_more = ((train[\"creatinine_phosphokinase\"] >= 300) & (train[\"sex\"] == 1))"
   ]
  },
  {
   "cell_type": "markdown",
   "metadata": {},
   "source": [
    "Number of males and females."
   ]
  },
  {
   "cell_type": "code",
   "execution_count": 31,
   "metadata": {},
   "outputs": [
    {
     "name": "stdout",
     "output_type": "stream",
     "text": [
      "Percentage of female: 35.11705685618729\n",
      "Percentage of male: 64.88294314381271\n"
     ]
    }
   ],
   "source": [
    "#females\n",
    "females = (train[\"sex\"]==0).sum()\n",
    "\n",
    "#males\n",
    "males = (train[\"sex\"]==1).sum()\n",
    "\n",
    "#printing the output\n",
    "print(\"Percentage of female:\", females/rows*100)\n",
    "print(\"Percentage of male:\", males/rows*100)"
   ]
  },
  {
   "cell_type": "markdown",
   "metadata": {},
   "source": [
    "Percentage of individuals in each category"
   ]
  },
  {
   "cell_type": "code",
   "execution_count": 32,
   "metadata": {},
   "outputs": [
    {
     "name": "stdout",
     "output_type": "stream",
     "text": [
      "Females with < normal: 0\n",
      "Females with == normal: 44\n",
      "Females with > normal: 61\n",
      "Males with < normal: 2\n",
      "Males with == normal: 102\n",
      "Males with > normal: 90\n"
     ]
    }
   ],
   "source": [
    "print(\"Females with < normal:\", female_lvl_less.sum())\n",
    "print(\"Females with == normal:\", female_lvl_equal.sum())\n",
    "print(\"Females with > normal:\", female_lvl_more.sum())\n",
    "\n",
    "print(\"Males with < normal:\", male_lvl_less.sum())\n",
    "print(\"Males with == normal:\", male_lvl_equal.sum())\n",
    "print(\"Males with > normal:\", male_lvl_more.sum())"
   ]
  },
  {
   "cell_type": "markdown",
   "metadata": {},
   "source": [
    "It can be observed that more individuals (male as well as female) have greater than normal levels. <br>\n",
    "Now we will see proportion of people who die in each category."
   ]
  },
  {
   "cell_type": "markdown",
   "metadata": {},
   "source": [
    "Studying the female categories "
   ]
  },
  {
   "cell_type": "code",
   "execution_count": 33,
   "metadata": {},
   "outputs": [],
   "source": [
    "#female -> level < normal\n",
    "#value == 0\n",
    "#die\n",
    "female_lvl_less_survive = (female_lvl_less & (train[\"DEATH_EVENT\"] == 0))\n",
    "#do not die\n",
    "female_lvl_less_not_survive = (female_lvl_less & (train[\"DEATH_EVENT\"] == 1))\n",
    "\n",
    "#female -> level == normal\n",
    "#die\n",
    "female_lvl_equal_survive = (female_lvl_equal & (train[\"DEATH_EVENT\"] == 0))\n",
    "#do not die\n",
    "female_lvl_equal_not_survive = (female_lvl_equal & (train[\"DEATH_EVENT\"] == 1))\n",
    "\n",
    "#female -> level > normal\n",
    "#die\n",
    "female_lvl_more_survive = (female_lvl_more & (train[\"DEATH_EVENT\"] == 0))\n",
    "#do not die\n",
    "female_lvl_more_not_survive = (female_lvl_more & (train[\"DEATH_EVENT\"] == 1))"
   ]
  },
  {
   "cell_type": "code",
   "execution_count": 34,
   "metadata": {},
   "outputs": [
    {
     "name": "stdout",
     "output_type": "stream",
     "text": [
      "Percentage of female -> == normal & survived: 65.9090909090909\n",
      "Percentage of female -> == normal & not_survived: 34.090909090909086\n",
      "Percentage of female -> > normal & survived: 68.85245901639344\n",
      "Percentage of female -> > normal & not_survived: 31.147540983606557\n"
     ]
    }
   ],
   "source": [
    "#printing\n",
    "print(\"Percentage of female -> == normal & survived:\", female_lvl_equal_survive.sum()/female_lvl_equal.sum()*100)\n",
    "print(\"Percentage of female -> == normal & not_survived:\", female_lvl_equal_not_survive.sum()/female_lvl_equal.sum()*100)\n",
    "\n",
    "print(\"Percentage of female -> > normal & survived:\", female_lvl_more_survive.sum()/female_lvl_more.sum()*100)\n",
    "print(\"Percentage of female -> > normal & not_survived:\", female_lvl_more_not_survive.sum()/female_lvl_more.sum()*100)"
   ]
  },
  {
   "cell_type": "markdown",
   "metadata": {},
   "source": [
    "It can be observed that females are more likely to survive in each category."
   ]
  },
  {
   "cell_type": "markdown",
   "metadata": {},
   "source": [
    "Studying the male categories"
   ]
  },
  {
   "cell_type": "code",
   "execution_count": 35,
   "metadata": {},
   "outputs": [],
   "source": [
    "#male -> level < normal\n",
    "male_lvl_less_survive = (male_lvl_less & (train[\"DEATH_EVENT\"] == 0))\n",
    "#do not die\n",
    "male_lvl_less_not_survive = (male_lvl_less & (train[\"DEATH_EVENT\"] == 1))\n",
    "\n",
    "#male -> level == normal\n",
    "#die\n",
    "male_lvl_equal_survive = (male_lvl_equal & (train[\"DEATH_EVENT\"] == 0))\n",
    "#do not die\n",
    "male_lvl_equal_not_survive = (male_lvl_equal & (train[\"DEATH_EVENT\"] == 1))\n",
    "\n",
    "#male -> level > normal\n",
    "#die\n",
    "male_lvl_more_survive = (male_lvl_more & (train[\"DEATH_EVENT\"] == 0))\n",
    "#do not die\n",
    "male_lvl_more_not_survive = (male_lvl_more & (train[\"DEATH_EVENT\"] == 1))"
   ]
  },
  {
   "cell_type": "code",
   "execution_count": 36,
   "metadata": {},
   "outputs": [
    {
     "name": "stdout",
     "output_type": "stream",
     "text": [
      "Percentage of male -> < normal & survived: 50.0\n",
      "Percentage of male -> < normal & not_survived: 50.0\n",
      "Percentage of male -> == normal & survived: 72.54901960784314\n",
      "Percentage of male -> == normal & not_survived: 27.450980392156865\n",
      "Percentage of male -> > normal & survived: 63.33333333333333\n",
      "Percentage of male -> > normal & not_survived: 36.666666666666664\n"
     ]
    }
   ],
   "source": [
    "#printing\n",
    "print(\"Percentage of male -> < normal & survived:\", male_lvl_less_survive.sum()/male_lvl_less.sum()*100)\n",
    "print(\"Percentage of male -> < normal & not_survived:\", male_lvl_less_not_survive.sum()/male_lvl_less.sum()*100)\n",
    "\n",
    "print(\"Percentage of male -> == normal & survived:\", male_lvl_equal_survive.sum()/male_lvl_equal.sum()*100)\n",
    "print(\"Percentage of male -> == normal & not_survived:\", male_lvl_equal_not_survive.sum()/male_lvl_equal.sum()*100)\n",
    "\n",
    "print(\"Percentage of male -> > normal & survived:\", male_lvl_more_survive.sum()/male_lvl_more.sum()*100)\n",
    "print(\"Percentage of male -> > normal & not_survived:\", male_lvl_more_not_survive.sum()/male_lvl_more.sum()*100)"
   ]
  },
  {
   "cell_type": "markdown",
   "metadata": {},
   "source": [
    "It can be observed that males are more likely to survive in each category."
   ]
  },
  {
   "cell_type": "markdown",
   "metadata": {},
   "source": [
    "Visualising the data"
   ]
  },
  {
   "cell_type": "code",
   "execution_count": 37,
   "metadata": {},
   "outputs": [
    {
     "data": {
      "image/png": "[encoded data removed]",
      "text/plain": [
       "<Figure size 432x288 with 1 Axes>"
      ]
     },
     "metadata": {},
     "output_type": "display_data"
    }
   ],
   "source": [
    "#bar-plot\n",
    "sns.barplot(x=train[\"DEATH_EVENT\"], y=train[\"creatinine_phosphokinase\"], palette=\"OrRd\")\n",
    "plt.ylabel(\"levels of creatinine_phosphokinase\")\n",
    "plt.title(\"Levels of creatinine_phosphokinase/Death events\")\n",
    "plt.show()"
   ]
  },
  {
   "cell_type": "markdown",
   "metadata": {},
   "source": [
    "It can be observed that individuals with higher levels of creatinine_phosphokinase are more likely to suffer death from heart failure. But this observation does not coincide with our assessment of individual categories based on gender and levels of creatinine_phosphokinase. <br>\n",
    "We will no visualise individual categories to arrive at a conclusion."
   ]
  },
  {
   "cell_type": "code",
   "execution_count": 38,
   "metadata": {},
   "outputs": [],
   "source": [
    "level_fem = [\"Less\", \"Equal\", \"More\", \"Less\", \"Equal\", \"More\"]\n",
    "Survival_fem = [\"Survive\", \"Survive\", \"Survive\", \"Not-Survive\", \"Not-Survive\", \"Not-Survive\"]\n",
    "Percentage_fem = [female_lvl_less_survive.sum()/females.sum()*100, female_lvl_equal_survive.sum()/females.sum()*100, \n",
    "          female_lvl_more_survive.sum()/females.sum()*100, female_lvl_less_not_survive.sum()/females.sum()*100, \n",
    "          female_lvl_equal_not_survive.sum()/females.sum()*100, female_lvl_more_not_survive.sum()/females.sum()*100]\n",
    "\n",
    "df_creatinine_phosphokinase_fem = pd.DataFrame({\"Level_fem\": level_fem, \"Survival_fem\": Survival_fem, \"Percentage\":\n",
    "                                               Percentage_fem})"
   ]
  },
  {
   "cell_type": "code",
   "execution_count": 39,
   "metadata": {},
   "outputs": [
    {
     "data": {
      "image/png": "[encoded data removed]",
      "text/plain": [
       "<Figure size 432x288 with 1 Axes>"
      ]
     },
     "metadata": {},
     "output_type": "display_data"
    }
   ],
   "source": [
    "ax = sns.barplot(x=\"Level_fem\", y=\"Percentage\", hue=\"Survival_fem\", data=df_creatinine_phosphokinase_fem, palette=\"OrRd\")\n",
    "plt.xlabel(\"Level of creatinine_phosphokinase\")\n",
    "plt.ylabel(\"Percentage\")\n",
    "plt.title(\"Percentage of female in each category\")\n",
    "plt.show()"
   ]
  },
  {
   "cell_type": "code",
   "execution_count": 40,
   "metadata": {},
   "outputs": [],
   "source": [
    "level_mal = [\"Less\", \"Equal\", \"More\", \"Less\", \"Equal\", \"More\"]\n",
    "Survival_mal = [\"Survive\", \"Survive\", \"Survive\", \"Not-Survive\", \"Not-Survive\", \"Not-Survive\"]\n",
    "Percentage_mal = [male_lvl_less_survive.sum()/males.sum()*100, male_lvl_equal_survive.sum()/males.sum()*100, \n",
    "          male_lvl_more_survive.sum()/males.sum()*100, male_lvl_less_not_survive.sum()/males.sum()*100, \n",
    "          male_lvl_equal_not_survive.sum()/males.sum()*100, male_lvl_more_not_survive.sum()/males.sum()*100]\n",
    "\n",
    "df_creatinine_phosphokinase_mal = pd.DataFrame({\"Level_mal\": level_mal, \"Survival_mal\": Survival_mal, \"Percentage\":\n",
    "                                               Percentage_mal})"
   ]
  },
  {
   "cell_type": "code",
   "execution_count": 41,
   "metadata": {},
   "outputs": [
    {
     "data": {
      "image/png": "[encoded data removed]",
      "text/plain": [
       "<Figure size 432x288 with 1 Axes>"
      ]
     },
     "metadata": {},
     "output_type": "display_data"
    }
   ],
   "source": [
    "ax = sns.barplot(x=\"Level_mal\", y=\"Percentage\", hue=\"Survival_mal\", data=df_creatinine_phosphokinase_mal, palette=\"OrRd\")\n",
    "plt.xlabel(\"Level of creatinine_phosphokinase\")\n",
    "plt.ylabel(\"Percentage\")\n",
    "plt.title(\"Percentage of male in each category\")\n",
    "plt.show()"
   ]
  },
  {
   "cell_type": "markdown",
   "metadata": {},
   "source": [
    "<b>Conclusion:</b> On a larger scale, people with higher levels of creatinine_phosphokinase are more prone to die of heart failure. But assessing individual categories for sex (male and female) and levels of creatinine_phosphokinase (less than, equal to, more than) suggests that there is not much chance of people dying of higher levels of creatinine_phosphokinase."
   ]
  },
  {
   "cell_type": "markdown",
   "metadata": {},
   "source": [
    "### Feature4: Diabetes"
   ]
  },
  {
   "cell_type": "code",
   "execution_count": 42,
   "metadata": {},
   "outputs": [
    {
     "name": "stdout",
     "output_type": "stream",
     "text": [
      "0      0\n",
      "1      0\n",
      "2      0\n",
      "3      0\n",
      "4      1\n",
      "      ..\n",
      "294    1\n",
      "295    0\n",
      "296    1\n",
      "297    0\n",
      "298    0\n",
      "Name: diabetes, Length: 299, dtype: int64\n"
     ]
    }
   ],
   "source": [
    "#checking the column\n",
    "print(train[\"diabetes\"])"
   ]
  },
  {
   "cell_type": "markdown",
   "metadata": {},
   "source": [
    "Considering diabetes has boolean values, Diabetes - 0 = No, 1 = Yes, we can categorise individuals as diabetic or non-diabetic and then assess what proportion of people in those categories die of heart failure.\n"
   ]
  },
  {
   "cell_type": "code",
   "execution_count": 43,
   "metadata": {},
   "outputs": [],
   "source": [
    "#categorising diabetic\n",
    "diabetic = train[\"diabetes\"] == 1\n",
    "\n",
    "#categorising non-diabetic\n",
    "non_diabetic = train[\"diabetes\"] == 0"
   ]
  },
  {
   "cell_type": "code",
   "execution_count": null,
   "metadata": {},
   "outputs": [],
   "source": []
  }
 ],
 "metadata": {
  "kernelspec": {
   "display_name": "Python 3",
   "language": "python",
   "name": "python3"
  },
  "language_info": {
   "codemirror_mode": {
    "name": "ipython",
    "version": 3
   },
   "file_extension": ".py",
   "mimetype": "text/x-python",
   "name": "python",
   "nbconvert_exporter": "python",
   "pygments_lexer": "ipython3",
   "version": "3.8.5"
  }
 },
 "nbformat": 4,
 "nbformat_minor": 4
}
